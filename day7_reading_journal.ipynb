{
 "cells": [
  {
   "cell_type": "markdown",
   "metadata": {},
   "source": [
    "# Day 7 Reading Journal\n",
    "\n",
    "This journal includes several required exercises, but it is meant to encourage active reading more generally.  You should use the journal to take detailed notes, catalog questions, and explore the content from Think Python deeply.\n",
    "\n",
    "Reading: Think Python Chapter 11, 12\n",
    "\n",
    "**Due: Thursday, February 18 at 12 noon**\n",
    "\n"
   ]
  },
  {
   "cell_type": "markdown",
   "metadata": {},
   "source": [
    "## [Chapter 11](http://www.greenteapress.com/thinkpython/html/thinkpython012.html)\n"
   ]
  },
  {
   "cell_type": "markdown",
   "metadata": {},
   "source": [
    "**Quick check:** In about one sentence using your own words, what is a dictionary?\n",
    "\n",
    "A dictionary is like a list, but the indices can be almost anytype"
   ]
  },
  {
   "cell_type": "markdown",
   "metadata": {},
   "source": [
    "#### dictionary\n",
    "1. dictionary needs a \"key\"\n",
    "2. create dictionary with dict()\n"
   ]
  },
  {
   "cell_type": "markdown",
   "metadata": {
    "is_question": true,
    "problem": "Exercise 11.2"
   },
   "source": [
    "### Exercise 2  \n",
    "\n",
    "Dictionaries have a [method called `get`](https://docs.python.org/2/library/stdtypes.html#mapping-types-dict) that takes a key and a default value. If the key appears in the dictionary, `get` returns the corresponding value; otherwise it returns the default value. For example:\n",
    "\n",
    "```\n",
    ">>> h = histogram('a')\n",
    ">>> print h\n",
    "{'a': 1}\n",
    ">>> h.get('a', 0)\n",
    "1\n",
    ">>> h.get('b', 0)\n",
    "0\n",
    "```\n",
    "\n",
    "Use `get` to write `histogram` more concisely. You should be able to eliminate the `if` statement. Add unit tests for your histogram implementation."
   ]
  },
  {
   "cell_type": "code",
   "execution_count": 72,
   "metadata": {
    "collapsed": false,
    "solution": "Exercise 11.2"
   },
   "outputs": [
    {
     "data": {
      "text/plain": [
       "TestResults(failed=0, attempted=10)"
      ]
     },
     "execution_count": 72,
     "metadata": {},
     "output_type": "execute_result"
    }
   ],
   "source": [
    "def histogram(s):\n",
    "    \"\"\"\n",
    "    >>> histogram('puppy')\n",
    "    {'y': 1, 'p': 3, 'u': 1}\n",
    "    >>> histogram('hello')\n",
    "    {'h': 1, 'e': 1, 'l': 2, 'o': 1}\n",
    "    \"\"\"\n",
    "    d = dict()\n",
    "    for c in s:\n",
    "        d[c] = 1 + d.get(c, 0)\n",
    "    return d\n",
    "\n",
    "import doctest\n",
    "doctest.testmod()"
   ]
  },
  {
   "cell_type": "markdown",
   "metadata": {
    "is_question": true,
    "problem": "Exercise 11.4"
   },
   "source": [
    "### Exercise 4  \n",
    "\n",
    "Modify `reverse_lookup` so that it builds and returns a list of all keys that map to `v`, or an empty list if there are none. Add unit tests for your implementation."
   ]
  },
  {
   "cell_type": "code",
   "execution_count": 3,
   "metadata": {
    "collapsed": false,
    "solution": "Exercise 11.4"
   },
   "outputs": [
    {
     "data": {
      "text/plain": [
       "TestResults(failed=0, attempted=5)"
      ]
     },
     "execution_count": 3,
     "metadata": {},
     "output_type": "execute_result"
    }
   ],
   "source": [
    "def reverse_lookup(d, v):\n",
    "    \"\"\"\n",
    "    >>> reverse_lookup(histogram('puppy'), 1)\n",
    "    ['y', 'u']\n",
    "    >>> reverse_lookup(histogram('puppy'), 2)\n",
    "    []\n",
    "    >>> reverse_lookup(histogram('puppy'), 3)\n",
    "    ['p']\n",
    "    \"\"\"\n",
    "    reverse_list = []\n",
    "    for k in d:\n",
    "        if d[k] == v:\n",
    "            reverse_list.append(k)\n",
    "    return reverse_list\n",
    "\n",
    "import doctest\n",
    "doctest.testmod()"
   ]
  },
  {
   "cell_type": "markdown",
   "metadata": {},
   "source": [
    "If you'd like to learn more about errors and exceptions, you can check out the [Python tutorial](https://docs.python.org/2/tutorial/errors.html) or read ahead to [Appendix A](http://www.greenteapress.com/thinkpython/html/thinkpython021.html) of Think Python. If you choose to use doctest for your unit testing, it can also [deal with exceptions](https://docs.python.org/2/library/doctest.html#what-about-exceptions)."
   ]
  },
  {
   "cell_type": "markdown",
   "metadata": {},
   "source": [
    "#### Dictionaries and Lists\n",
    "1. a Hash is a function that takes a value and returns an integer\n",
    "2. Dictionaries use hash values to store and look up key value pairs"
   ]
  },
  {
   "cell_type": "markdown",
   "metadata": {},
   "source": [
    "**Quick check** What type of objects can be used as keys to a dictionary, i.e. what property must they have?"
   ]
  },
  {
   "cell_type": "markdown",
   "metadata": {},
   "source": [
    "Keys must be hashable "
   ]
  },
  {
   "cell_type": "markdown",
   "metadata": {},
   "source": [
    "### Memos\n",
    "1. recursive function's time increases for each iteration because it computes the base case many times\n",
    "2. we can reduce the time by storing the calculated values into a dictionary"
   ]
  },
  {
   "cell_type": "markdown",
   "metadata": {
    "is_question": true,
    "problem": "Exercise 11.6"
   },
   "source": [
    "### Exercise 6 (modified)\n",
    "\n",
    "Create a memoized version of your Levenshtein distance function from Day 7. What kind of performance change do you see?\n",
    "\n",
    "Optional: If you'd like to get some quantitative results, you could check out the [timeit](https://docs.python.org/2/library/timeit.html) module\n",
    "\n",
    "Note: You can also study Fibonacci here if you prefer."
   ]
  },
  {
   "cell_type": "code",
   "execution_count": 44,
   "metadata": {
    "collapsed": false,
    "solution": "Exercise 11.6"
   },
   "outputs": [
    {
     "name": "stdout",
     "output_type": "stream",
     "text": [
      "832040\n",
      "222232244629420445529739893461909967206666939096499764990979600\n"
     ]
    }
   ],
   "source": [
    "def recursive_fibonacci(n):\n",
    "    if n == 1:\n",
    "        return 1\n",
    "    elif n == 0:\n",
    "        return 0\n",
    "    return recursive_fibonacci(n-1) + recursive_fibonacci(n-2)\n",
    "print recursive_fibonacci(30)\n",
    "\n",
    "known_values = {0:0, 1:1}\n",
    "def memoized_fibonacci(n):\n",
    "    if n in known_values:\n",
    "        return known_values[n]\n",
    "    temp = memoized_fibonacci(n-1) + memoized_fibonacci(n-2)\n",
    "    known_values[n] = temp\n",
    "    return temp\n",
    "print memoized_fibonacci(300)"
   ]
  },
  {
   "cell_type": "markdown",
   "metadata": {},
   "source": [
    "### Global Variables\n",
    "1. global variables are created in main. They keep their values throughout all functions\n",
    "2. If you try to change a global variable, you cannot within a function. The function will create a new variable with a different value\n",
    "3. to change the value within a function, you have to declare the global variable\n",
    "\n",
    "test = False\n",
    "\n",
    "def change_varaible()\n",
    "\n",
    "    global test\n",
    "    \n",
    "    test = True\n",
    "    \n",
    "4. you can add, remove, and replace elements in a dictionary, but if you want to reasign, you have to declare it global. (which is why our fibonacci works without declaring global)"
   ]
  },
  {
   "cell_type": "markdown",
   "metadata": {},
   "source": [
    "### Long integers\n",
    "1.large integers can turn into long integer (number with L at the end)\n"
   ]
  },
  {
   "cell_type": "code",
   "execution_count": 50,
   "metadata": {
    "collapsed": false
   },
   "outputs": [
    {
     "name": "stdout",
     "output_type": "stream",
     "text": [
      "<type 'tuple'>\n",
      "<type 'list'>\n"
     ]
    }
   ],
   "source": [
    "t = 'a', 'b', 'c', 'd'\n",
    "print type(t)\n",
    "l = ['a', 'b', 'c', 'd']\n",
    "print type(l)"
   ]
  },
  {
   "cell_type": "markdown",
   "metadata": {},
   "source": [
    "## [Chapter 12](http://www.greenteapress.com/thinkpython/html/thinkpython013.html)\n",
    "\n",
    "**Quick check:** In about one sentence using your own words, what is a tuple?"
   ]
  },
  {
   "cell_type": "markdown",
   "metadata": {},
   "source": [
    "a tuple is a immutable list (with type tuple) "
   ]
  },
  {
   "cell_type": "markdown",
   "metadata": {},
   "source": [
    "### Tuples\n",
    "1. to create a tuple with one value, we have to put a comma at the end\n",
    "\n",
    "t = 'a',\n",
    "    2. tuples are usually in parenthesis\n",
    "    3. empty tuples can be created with tuple()\n",
    "    4. we cannot change the values in a tuple, but we can replace tuples\n",
    "   \n",
    "t = 'a', 'b', 'c'\n",
    "\n",
    "t = 'd', + t[1:]\n",
    "\n",
    "print t\n",
    "\n",
    "('d', 'b', 'c')"
   ]
  },
  {
   "cell_type": "markdown",
   "metadata": {},
   "source": [
    "### Tuple Assignment\n",
    "1. it is cumbersome to use a temp variable to swap two values of variables\n",
    "2. we can use tuples\n",
    "\n",
    "a = 5\n",
    "\n",
    "b = 6\n",
    "\n",
    "a, b = b, a\n",
    "\n",
    "    3. left is tuple of variables, and right is a tuple of expressions, which reassigns them"
   ]
  },
  {
   "cell_type": "markdown",
   "metadata": {},
   "source": [
    "### Tuple as return values\n",
    "1. divmod(a, b) returns the quotient, and remainder\n",
    "2. we can store this in a tuple, or use tuples to store in seperate variables\n",
    "\n",
    "quot, rem = divmod(7,3)"
   ]
  },
  {
   "cell_type": "markdown",
   "metadata": {},
   "source": [
    "### Variable-Length Argument Tuples\n",
    "1. using (*args) in a parameter makes the input have multiple arguments\n",
    "\n",
    "    Ex:\n",
    "    \n",
    "    t = (7,3)\n",
    "\n",
    "    divmod(t)  # cannot take in a tuple\n",
    "\n",
    "    divmod(*t) #this scatters the tuple, allowing the function to work as intended"
   ]
  },
  {
   "cell_type": "markdown",
   "metadata": {
    "is_question": true,
    "problem": "Exercise 12.1"
   },
   "source": [
    "### Exercise 1  \n",
    "\n",
    "Many of the built-in functions use variable-length argument tuples. For example, `max` and `min` can take any number of arguments:\n",
    "\n",
    "```\n",
    ">>> max(1,2,3)\n",
    "3\n",
    "```\n",
    "\n",
    "But `sum` does not.\n",
    "\n",
    "```\n",
    ">>> sum(1,2,3)\n",
    "TypeError: sum expected at most 2 arguments, got 3\n",
    "```\n",
    "\n",
    "Write a function called ```sumall``` that takes any number of arguments and returns their sum. \n",
    "\n",
    "Write unit tests for your function. Do I actually need to keep saying this? Let's assume it's always a good idea :)"
   ]
  },
  {
   "cell_type": "code",
   "execution_count": 64,
   "metadata": {
    "collapsed": false,
    "solution": "Exercise 12.1"
   },
   "outputs": [
    {
     "data": {
      "text/plain": [
       "TestResults(failed=0, attempted=8)"
      ]
     },
     "execution_count": 64,
     "metadata": {},
     "output_type": "execute_result"
    }
   ],
   "source": [
    "def sumall(*args):\n",
    "    \"\"\"\n",
    "    >>> sumall(2, 3, 1)\n",
    "    6\n",
    "    >>> sumall(5)\n",
    "    5\n",
    "    >>> sumall(5, 5, 5, 5, 5)\n",
    "    25\n",
    "    \"\"\"\n",
    "    res = 0\n",
    "    for element in args:\n",
    "        res += element\n",
    "    return res\n",
    "\n",
    "import doctest\n",
    "doctest.testmod()"
   ]
  },
  {
   "cell_type": "markdown",
   "metadata": {},
   "source": [
    "### Lists and tuples\n",
    "1. zip takes two or more sequences and 'zips' them into a list of tuples\n",
    "2. the number of tuples corresponds to the sequence with the shorter number of elementss"
   ]
  },
  {
   "cell_type": "code",
   "execution_count": 60,
   "metadata": {
    "collapsed": false
   },
   "outputs": [
    {
     "data": {
      "text/plain": [
       "[('a', 0, 'f'), ('b', 1, 'g'), ('c', 2, 'd')]"
      ]
     },
     "execution_count": 60,
     "metadata": {},
     "output_type": "execute_result"
    }
   ],
   "source": [
    "s = 'abc'\n",
    "t = (0, 1, 2)\n",
    "f = ['f', 'g', 'd', 'h']\n",
    "zip(s,t, f)"
   ]
  },
  {
   "cell_type": "markdown",
   "metadata": {},
   "source": [
    "we can use tuple assigment for a for loop\n",
    "\n",
    "for letter, number in t:\n",
    "\n",
    "    return number, letter"
   ]
  },
  {
   "cell_type": "markdown",
   "metadata": {},
   "source": [
    "### Dictionaries and tuples\n",
    "1. a method called items returns a list of tuples, and each of them is a key-value pair\n",
    "\n",
    "d = {'a':0, 'b':2, 'c':4}\n",
    "\n",
    "t = d.items()\n",
    "    2. you can use a list of tuples to create a dictionary as well."
   ]
  },
  {
   "cell_type": "markdown",
   "metadata": {},
   "source": [
    "### Comparing tuples\n",
    "1. when comparing tuples with a boolean expression, python looks at the first of each element, if they are equal, it moves on until it reaches a statement it can evaluate."
   ]
  },
  {
   "cell_type": "markdown",
   "metadata": {},
   "source": [
    "If you're interested in more flexible ways to pass arguments to functions, check out the [Python tutorial](https://docs.python.org/2/tutorial/controlflow.html#more-on-defining-functions). For instance, you can also use keyword arguments, which are collected into a dictionary just like `*` gathers variable numbers of positional arguments into a tuple.\n",
    "\n",
    "This pattern is very common for defining functions with complex optional behaviors in Python, and you will often see definitions like:\n",
    "\n",
    "```\n",
    "def my_func(required_argument1, *arguments, **keywords):\n",
    "    ...\n",
    "```"
   ]
  },
  {
   "cell_type": "markdown",
   "metadata": {
    "is_question": true,
    "problem": "Exercise 12 sort"
   },
   "source": [
    "### Exercise\n",
    "\n",
    "Write a function `sort_by_last_letter` that takes a list of words and returns a new list with the words sorted alphabetically by the _last letter_ in the word. Hint: use the **Decorate, Sort, Undecorate** pattern. Write unit tests for your function."
   ]
  },
  {
   "cell_type": "code",
   "execution_count": 71,
   "metadata": {
    "collapsed": false,
    "solution": "Exercise 12 sort"
   },
   "outputs": [
    {
     "data": {
      "text/plain": [
       "TestResults(failed=0, attempted=10)"
      ]
     },
     "execution_count": 71,
     "metadata": {},
     "output_type": "execute_result"
    }
   ],
   "source": [
    "def sort_by_last_letter(words):\n",
    "    \"\"\"\n",
    "    >>> print sort_by_last_letter(['zzb', 'kwed', 'zzzza', 'c'])\n",
    "    ['zzzza', 'zzb', 'c', 'kwed']\n",
    "    >>> print sort_by_last_letter(['five', 'six', 'seven'])\n",
    "    ['five', 'seven', 'six']\n",
    "    \"\"\"\n",
    "    t = []\n",
    "    for word in words:\n",
    "        t.append((word[-1], word))\n",
    "    t.sort()\n",
    "    \n",
    "    result = []\n",
    "    for last_letter, word in t:\n",
    "        result.append(word)\n",
    "    return result\n",
    "\n",
    "import doctest\n",
    "doctest.testmod()"
   ]
  },
  {
   "cell_type": "markdown",
   "metadata": {},
   "source": [
    "**Quick check** Give an example of when you might use each sequence type:\n",
    "\n",
    "- tuple\n",
    "\n",
    "- list\n",
    "\n",
    "- string"
   ]
  },
  {
   "cell_type": "markdown",
   "metadata": {},
   "source": [
    "1. we can use tuples to compare different elements in the given variable easily, or when we want to create a dictionary\n",
    "2. we can use a list when we want to easily modify the list. (lists are mutable)\n",
    "3. we can use a string to hold characters"
   ]
  },
  {
   "cell_type": "markdown",
   "metadata": {
    "is_question": true,
    "problem": "Exercise 12.3"
   },
   "source": [
    "### Exercise 3  \n",
    "\n",
    "Write a function called `most_frequent` that takes a string and prints the letters in decreasing order of frequency. Find text samples from several different languages and see how letter frequency varies between languages. Compare your results with the tables at http://en.wikipedia.org/wiki/Letter_frequencies. \n",
    "\n",
    "Allen's solution (try it on your own first): http://thinkpython.com/code/most_frequent.py. "
   ]
  },
  {
   "cell_type": "code",
   "execution_count": 110,
   "metadata": {
    "collapsed": false,
    "solution": "Exercise 12.3"
   },
   "outputs": [
    {
     "data": {
      "text/plain": [
       "TestResults(failed=0, attempted=12)"
      ]
     },
     "execution_count": 110,
     "metadata": {},
     "output_type": "execute_result"
    }
   ],
   "source": [
    "def most_frequent(words):\n",
    "    \"\"\"\n",
    "    >>> most_frequent('hello')\n",
    "    ['l', 'o', 'h', 'e']\n",
    "    >>> most_frequent('beep, boop, bop')    ##function does not remove any non alphabetic characters\n",
    "    ['p', 'o', 'b', 'e', ',', ' ']\n",
    "    \"\"\"\n",
    "    d = dict()\n",
    "    for c in words:\n",
    "        d[c] = 1 + d.get(c, 0)\n",
    "    sorted_tuple = []\n",
    "    for letter, frequency in d.items():\n",
    "        sorted_tuple.append((frequency, letter))\n",
    "    sorted_tuple.sort(reverse=True)\n",
    "    frequency_list = []\n",
    "    \n",
    "    for frequency, letter, in sorted_tuple:\n",
    "        frequency_list.append(letter)\n",
    "    return frequency_list\n",
    "\n",
    "import doctest\n",
    "doctest.testmod()"
   ]
  },
  {
   "cell_type": "markdown",
   "metadata": {
    "is_question": true,
    "problem": "Exercise 12.6"
   },
   "source": [
    "### Challenge: Exercise 6   (optional)\n",
    "\n",
    "From a [Car Talk Puzzler](http://www.cartalk.com/content/puzzlers):\n",
    "\n",
    "What is the longest English word, that remains a valid English word, as you remove its letters one at a time?\n",
    "\n",
    "Now, letters can be removed from either end, or the middle, but you can’t rearrange any of the letters. Every time you drop a letter, you wind up with another English word. If you do that, you’re eventually going to wind up with one letter and that too is going to be an English word—one that’s found in the dictionary. I want to know what’s the longest word and how many letters does it have?\n",
    "\n",
    "I’m going to give you a little modest example: Sprite. Ok? You start off with sprite, you take a letter off, one from the interior of the word, take the r away, and we’re left with the word spite, then we take the e off the end, we’re left with spit, we take the s off, we’re left with pit, it, and I. \n",
    "\n",
    "Write a program to find all words that can be reduced in this way, and then find the longest one.\n",
    "\n",
    "This exercise is a little more challenging than most, so here are some suggestions:\n",
    "\n",
    "- You might want to write a function that takes a word and computes a list of all the words that can be formed by removing one letter. These are the “children” of the word.\n",
    "- Recursively, a word is reducible if any of its children are reducible. As a base case, you can consider the empty string reducible.\n",
    "- The word list from [Chapter 9.1](http://www.greenteapress.com/thinkpython/html/thinkpython010.html) Exercise 1 doesn’t contain single letter words. So you might want to add “I”, “a”, and the empty string.\n",
    "- To improve the performance of your program, you might want to memoize the words that are known to be reducible.\n",
    "\n",
    "Allen's solution: http://thinkpython.com/code/reducible.py."
   ]
  },
  {
   "cell_type": "code",
   "execution_count": null,
   "metadata": {
    "collapsed": true,
    "solution": "Exercise 12.6"
   },
   "outputs": [],
   "source": []
  },
  {
   "cell_type": "markdown",
   "metadata": {
    "is_question": true,
    "problem": "Feedback"
   },
   "source": [
    "## Reading Journal feedback\n",
    "\n",
    "Have any comments on this Reading Journal? Feel free to leave them below and we'll read them when you submit your journal entry. This could include suggestions to improve the exercises, topics you'd like to see covered in class next time, or other feedback.\n",
    "\n",
    "If you have Python questions or run into problems while completing the reading, you should post them to Piazza instead so you can get a quick response before your journal is submitted."
   ]
  },
  {
   "cell_type": "markdown",
   "metadata": {
    "feedback_response": true,
    "solution": "Feedback"
   },
   "source": [
    " "
   ]
  }
 ],
 "metadata": {
  "celltoolbar": "Edit Metadata",
  "kernelspec": {
   "display_name": "Python 2",
   "language": "python",
   "name": "python2"
  },
  "language_info": {
   "codemirror_mode": {
    "name": "ipython",
    "version": 2
   },
   "file_extension": ".py",
   "mimetype": "text/x-python",
   "name": "python",
   "nbconvert_exporter": "python",
   "pygments_lexer": "ipython2",
   "version": "2.7.6"
  }
 },
 "nbformat": 4,
 "nbformat_minor": 0
}
